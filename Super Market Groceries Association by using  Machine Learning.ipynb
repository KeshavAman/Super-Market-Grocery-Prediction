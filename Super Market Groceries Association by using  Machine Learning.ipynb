{
 "cells": [
  {
   "cell_type": "markdown",
   "metadata": {},
   "source": [
    "# Importing libraries"
   ]
  },
  {
   "cell_type": "code",
   "execution_count": 19,
   "metadata": {},
   "outputs": [],
   "source": [
    "import pandas as pd\n",
    "import numpy as np\n",
    "import matplotlib.pyplot as plt\n",
    "import seaborn as sns\n",
    "from pandas import plotting"
   ]
  },
  {
   "cell_type": "markdown",
   "metadata": {},
   "source": [
    "# Reading Dataset"
   ]
  },
  {
   "cell_type": "code",
   "execution_count": 20,
   "metadata": {},
   "outputs": [
    {
     "data": {
      "text/html": [
       "<div>\n",
       "<style scoped>\n",
       "    .dataframe tbody tr th:only-of-type {\n",
       "        vertical-align: middle;\n",
       "    }\n",
       "\n",
       "    .dataframe tbody tr th {\n",
       "        vertical-align: top;\n",
       "    }\n",
       "\n",
       "    .dataframe thead th {\n",
       "        text-align: right;\n",
       "    }\n",
       "</style>\n",
       "<table border=\"1\" class=\"dataframe\">\n",
       "  <thead>\n",
       "    <tr style=\"text-align: right;\">\n",
       "      <th></th>\n",
       "      <th>0</th>\n",
       "      <th>1</th>\n",
       "      <th>2</th>\n",
       "      <th>3</th>\n",
       "      <th>4</th>\n",
       "      <th>5</th>\n",
       "      <th>6</th>\n",
       "      <th>7</th>\n",
       "      <th>8</th>\n",
       "      <th>9</th>\n",
       "      <th>10</th>\n",
       "      <th>11</th>\n",
       "      <th>12</th>\n",
       "      <th>13</th>\n",
       "      <th>14</th>\n",
       "      <th>15</th>\n",
       "      <th>16</th>\n",
       "      <th>17</th>\n",
       "      <th>18</th>\n",
       "      <th>19</th>\n",
       "    </tr>\n",
       "  </thead>\n",
       "  <tbody>\n",
       "    <tr>\n",
       "      <th>0</th>\n",
       "      <td>shrimp</td>\n",
       "      <td>almonds</td>\n",
       "      <td>avocado</td>\n",
       "      <td>vegetables mix</td>\n",
       "      <td>green grapes</td>\n",
       "      <td>whole weat flour</td>\n",
       "      <td>yams</td>\n",
       "      <td>cottage cheese</td>\n",
       "      <td>energy drink</td>\n",
       "      <td>tomato juice</td>\n",
       "      <td>low fat yogurt</td>\n",
       "      <td>green tea</td>\n",
       "      <td>honey</td>\n",
       "      <td>salad</td>\n",
       "      <td>mineral water</td>\n",
       "      <td>salmon</td>\n",
       "      <td>antioxydant juice</td>\n",
       "      <td>frozen smoothie</td>\n",
       "      <td>spinach</td>\n",
       "      <td>olive oil</td>\n",
       "    </tr>\n",
       "    <tr>\n",
       "      <th>1</th>\n",
       "      <td>burgers</td>\n",
       "      <td>meatballs</td>\n",
       "      <td>eggs</td>\n",
       "      <td>NaN</td>\n",
       "      <td>NaN</td>\n",
       "      <td>NaN</td>\n",
       "      <td>NaN</td>\n",
       "      <td>NaN</td>\n",
       "      <td>NaN</td>\n",
       "      <td>NaN</td>\n",
       "      <td>NaN</td>\n",
       "      <td>NaN</td>\n",
       "      <td>NaN</td>\n",
       "      <td>NaN</td>\n",
       "      <td>NaN</td>\n",
       "      <td>NaN</td>\n",
       "      <td>NaN</td>\n",
       "      <td>NaN</td>\n",
       "      <td>NaN</td>\n",
       "      <td>NaN</td>\n",
       "    </tr>\n",
       "    <tr>\n",
       "      <th>2</th>\n",
       "      <td>chutney</td>\n",
       "      <td>NaN</td>\n",
       "      <td>NaN</td>\n",
       "      <td>NaN</td>\n",
       "      <td>NaN</td>\n",
       "      <td>NaN</td>\n",
       "      <td>NaN</td>\n",
       "      <td>NaN</td>\n",
       "      <td>NaN</td>\n",
       "      <td>NaN</td>\n",
       "      <td>NaN</td>\n",
       "      <td>NaN</td>\n",
       "      <td>NaN</td>\n",
       "      <td>NaN</td>\n",
       "      <td>NaN</td>\n",
       "      <td>NaN</td>\n",
       "      <td>NaN</td>\n",
       "      <td>NaN</td>\n",
       "      <td>NaN</td>\n",
       "      <td>NaN</td>\n",
       "    </tr>\n",
       "    <tr>\n",
       "      <th>3</th>\n",
       "      <td>turkey</td>\n",
       "      <td>avocado</td>\n",
       "      <td>NaN</td>\n",
       "      <td>NaN</td>\n",
       "      <td>NaN</td>\n",
       "      <td>NaN</td>\n",
       "      <td>NaN</td>\n",
       "      <td>NaN</td>\n",
       "      <td>NaN</td>\n",
       "      <td>NaN</td>\n",
       "      <td>NaN</td>\n",
       "      <td>NaN</td>\n",
       "      <td>NaN</td>\n",
       "      <td>NaN</td>\n",
       "      <td>NaN</td>\n",
       "      <td>NaN</td>\n",
       "      <td>NaN</td>\n",
       "      <td>NaN</td>\n",
       "      <td>NaN</td>\n",
       "      <td>NaN</td>\n",
       "    </tr>\n",
       "    <tr>\n",
       "      <th>4</th>\n",
       "      <td>mineral water</td>\n",
       "      <td>milk</td>\n",
       "      <td>energy bar</td>\n",
       "      <td>whole wheat rice</td>\n",
       "      <td>green tea</td>\n",
       "      <td>NaN</td>\n",
       "      <td>NaN</td>\n",
       "      <td>NaN</td>\n",
       "      <td>NaN</td>\n",
       "      <td>NaN</td>\n",
       "      <td>NaN</td>\n",
       "      <td>NaN</td>\n",
       "      <td>NaN</td>\n",
       "      <td>NaN</td>\n",
       "      <td>NaN</td>\n",
       "      <td>NaN</td>\n",
       "      <td>NaN</td>\n",
       "      <td>NaN</td>\n",
       "      <td>NaN</td>\n",
       "      <td>NaN</td>\n",
       "    </tr>\n",
       "  </tbody>\n",
       "</table>\n",
       "</div>"
      ],
      "text/plain": [
       "              0          1           2                 3             4   \\\n",
       "0         shrimp    almonds     avocado    vegetables mix  green grapes   \n",
       "1        burgers  meatballs        eggs               NaN           NaN   \n",
       "2        chutney        NaN         NaN               NaN           NaN   \n",
       "3         turkey    avocado         NaN               NaN           NaN   \n",
       "4  mineral water       milk  energy bar  whole wheat rice     green tea   \n",
       "\n",
       "                 5     6               7             8             9   \\\n",
       "0  whole weat flour  yams  cottage cheese  energy drink  tomato juice   \n",
       "1               NaN   NaN             NaN           NaN           NaN   \n",
       "2               NaN   NaN             NaN           NaN           NaN   \n",
       "3               NaN   NaN             NaN           NaN           NaN   \n",
       "4               NaN   NaN             NaN           NaN           NaN   \n",
       "\n",
       "               10         11     12     13             14      15  \\\n",
       "0  low fat yogurt  green tea  honey  salad  mineral water  salmon   \n",
       "1             NaN        NaN    NaN    NaN            NaN     NaN   \n",
       "2             NaN        NaN    NaN    NaN            NaN     NaN   \n",
       "3             NaN        NaN    NaN    NaN            NaN     NaN   \n",
       "4             NaN        NaN    NaN    NaN            NaN     NaN   \n",
       "\n",
       "                  16               17       18         19  \n",
       "0  antioxydant juice  frozen smoothie  spinach  olive oil  \n",
       "1                NaN              NaN      NaN        NaN  \n",
       "2                NaN              NaN      NaN        NaN  \n",
       "3                NaN              NaN      NaN        NaN  \n",
       "4                NaN              NaN      NaN        NaN  "
      ]
     },
     "execution_count": 20,
     "metadata": {},
     "output_type": "execute_result"
    }
   ],
   "source": [
    "dataset = pd.read_csv('https://raw.githubusercontent.com/KeshavAman/Super-Market-Grocery-Prediction/main/Market.csv', header= None)\n",
    "dataset.head()"
   ]
  },
  {
   "cell_type": "code",
   "execution_count": 21,
   "metadata": {},
   "outputs": [
    {
     "data": {
      "text/html": [
       "<div>\n",
       "<style scoped>\n",
       "    .dataframe tbody tr th:only-of-type {\n",
       "        vertical-align: middle;\n",
       "    }\n",
       "\n",
       "    .dataframe tbody tr th {\n",
       "        vertical-align: top;\n",
       "    }\n",
       "\n",
       "    .dataframe thead th {\n",
       "        text-align: right;\n",
       "    }\n",
       "</style>\n",
       "<table border=\"1\" class=\"dataframe\">\n",
       "  <thead>\n",
       "    <tr style=\"text-align: right;\">\n",
       "      <th></th>\n",
       "      <th>count</th>\n",
       "      <th>unique</th>\n",
       "      <th>top</th>\n",
       "      <th>freq</th>\n",
       "    </tr>\n",
       "  </thead>\n",
       "  <tbody>\n",
       "    <tr>\n",
       "      <th>0</th>\n",
       "      <td>7501</td>\n",
       "      <td>115</td>\n",
       "      <td>mineral water</td>\n",
       "      <td>577</td>\n",
       "    </tr>\n",
       "    <tr>\n",
       "      <th>1</th>\n",
       "      <td>5747</td>\n",
       "      <td>117</td>\n",
       "      <td>mineral water</td>\n",
       "      <td>484</td>\n",
       "    </tr>\n",
       "    <tr>\n",
       "      <th>2</th>\n",
       "      <td>4389</td>\n",
       "      <td>115</td>\n",
       "      <td>mineral water</td>\n",
       "      <td>375</td>\n",
       "    </tr>\n",
       "    <tr>\n",
       "      <th>3</th>\n",
       "      <td>3345</td>\n",
       "      <td>114</td>\n",
       "      <td>mineral water</td>\n",
       "      <td>201</td>\n",
       "    </tr>\n",
       "    <tr>\n",
       "      <th>4</th>\n",
       "      <td>2529</td>\n",
       "      <td>110</td>\n",
       "      <td>green tea</td>\n",
       "      <td>153</td>\n",
       "    </tr>\n",
       "    <tr>\n",
       "      <th>5</th>\n",
       "      <td>1864</td>\n",
       "      <td>106</td>\n",
       "      <td>french fries</td>\n",
       "      <td>107</td>\n",
       "    </tr>\n",
       "    <tr>\n",
       "      <th>6</th>\n",
       "      <td>1369</td>\n",
       "      <td>102</td>\n",
       "      <td>green tea</td>\n",
       "      <td>96</td>\n",
       "    </tr>\n",
       "    <tr>\n",
       "      <th>7</th>\n",
       "      <td>981</td>\n",
       "      <td>98</td>\n",
       "      <td>green tea</td>\n",
       "      <td>67</td>\n",
       "    </tr>\n",
       "    <tr>\n",
       "      <th>8</th>\n",
       "      <td>654</td>\n",
       "      <td>88</td>\n",
       "      <td>green tea</td>\n",
       "      <td>57</td>\n",
       "    </tr>\n",
       "    <tr>\n",
       "      <th>9</th>\n",
       "      <td>395</td>\n",
       "      <td>80</td>\n",
       "      <td>green tea</td>\n",
       "      <td>31</td>\n",
       "    </tr>\n",
       "    <tr>\n",
       "      <th>10</th>\n",
       "      <td>256</td>\n",
       "      <td>66</td>\n",
       "      <td>low fat yogurt</td>\n",
       "      <td>22</td>\n",
       "    </tr>\n",
       "    <tr>\n",
       "      <th>11</th>\n",
       "      <td>154</td>\n",
       "      <td>50</td>\n",
       "      <td>green tea</td>\n",
       "      <td>15</td>\n",
       "    </tr>\n",
       "    <tr>\n",
       "      <th>12</th>\n",
       "      <td>87</td>\n",
       "      <td>43</td>\n",
       "      <td>green tea</td>\n",
       "      <td>8</td>\n",
       "    </tr>\n",
       "    <tr>\n",
       "      <th>13</th>\n",
       "      <td>47</td>\n",
       "      <td>28</td>\n",
       "      <td>green tea</td>\n",
       "      <td>4</td>\n",
       "    </tr>\n",
       "    <tr>\n",
       "      <th>14</th>\n",
       "      <td>25</td>\n",
       "      <td>19</td>\n",
       "      <td>magazines</td>\n",
       "      <td>3</td>\n",
       "    </tr>\n",
       "    <tr>\n",
       "      <th>15</th>\n",
       "      <td>8</td>\n",
       "      <td>8</td>\n",
       "      <td>chocolate</td>\n",
       "      <td>1</td>\n",
       "    </tr>\n",
       "    <tr>\n",
       "      <th>16</th>\n",
       "      <td>4</td>\n",
       "      <td>3</td>\n",
       "      <td>frozen smoothie</td>\n",
       "      <td>2</td>\n",
       "    </tr>\n",
       "    <tr>\n",
       "      <th>17</th>\n",
       "      <td>4</td>\n",
       "      <td>3</td>\n",
       "      <td>protein bar</td>\n",
       "      <td>2</td>\n",
       "    </tr>\n",
       "    <tr>\n",
       "      <th>18</th>\n",
       "      <td>3</td>\n",
       "      <td>3</td>\n",
       "      <td>mayonnaise</td>\n",
       "      <td>1</td>\n",
       "    </tr>\n",
       "    <tr>\n",
       "      <th>19</th>\n",
       "      <td>1</td>\n",
       "      <td>1</td>\n",
       "      <td>olive oil</td>\n",
       "      <td>1</td>\n",
       "    </tr>\n",
       "  </tbody>\n",
       "</table>\n",
       "</div>"
      ],
      "text/plain": [
       "   count unique              top freq\n",
       "0   7501    115    mineral water  577\n",
       "1   5747    117    mineral water  484\n",
       "2   4389    115    mineral water  375\n",
       "3   3345    114    mineral water  201\n",
       "4   2529    110        green tea  153\n",
       "5   1864    106     french fries  107\n",
       "6   1369    102        green tea   96\n",
       "7    981     98        green tea   67\n",
       "8    654     88        green tea   57\n",
       "9    395     80        green tea   31\n",
       "10   256     66   low fat yogurt   22\n",
       "11   154     50        green tea   15\n",
       "12    87     43        green tea    8\n",
       "13    47     28        green tea    4\n",
       "14    25     19        magazines    3\n",
       "15     8      8        chocolate    1\n",
       "16     4      3  frozen smoothie    2\n",
       "17     4      3      protein bar    2\n",
       "18     3      3       mayonnaise    1\n",
       "19     1      1        olive oil    1"
      ]
     },
     "execution_count": 21,
     "metadata": {},
     "output_type": "execute_result"
    }
   ],
   "source": [
    "dataset.describe().T"
   ]
  },
  {
   "cell_type": "code",
   "execution_count": 22,
   "metadata": {},
   "outputs": [
    {
     "data": {
      "text/plain": [
       "(7501, 20)"
      ]
     },
     "execution_count": 22,
     "metadata": {},
     "output_type": "execute_result"
    }
   ],
   "source": [
    "dataset.shape"
   ]
  },
  {
   "cell_type": "markdown",
   "metadata": {},
   "source": [
    "# Checking null value"
   ]
  },
  {
   "cell_type": "code",
   "execution_count": 23,
   "metadata": {},
   "outputs": [
    {
     "data": {
      "text/plain": [
       "True"
      ]
     },
     "execution_count": 23,
     "metadata": {},
     "output_type": "execute_result"
    }
   ],
   "source": [
    "dataset.isnull().any().any()"
   ]
  },
  {
   "cell_type": "markdown",
   "metadata": {},
   "source": [
    "# Using Apyori Algorithm"
   ]
  },
  {
   "cell_type": "code",
   "execution_count": 24,
   "metadata": {},
   "outputs": [
    {
     "name": "stdout",
     "output_type": "stream",
     "text": [
      "[['chicken', 'light cream'], ['mushroom cream sauce', 'escalope'], ['pasta', 'escalope'], ['honey', 'fromage blanc'], ['herb & pepper', 'ground beef'], ['tomato sauce', 'ground beef'], ['olive oil', 'light cream'], ['olive oil', 'whole wheat pasta'], ['pasta', 'shrimp'], ['milk', 'spaghetti', 'avocado'], ['cake', 'milk', 'burgers'], ['turkey', 'chocolate', 'burgers'], ['turkey', 'milk', 'burgers'], ['cake', 'frozen vegetables', 'tomatoes'], ['cereals', 'spaghetti', 'ground beef'], ['milk', 'chicken', 'ground beef'], ['chicken', 'nan', 'light cream'], ['olive oil', 'milk', 'chicken'], ['olive oil', 'chicken', 'spaghetti'], ['frozen vegetables', 'chocolate', 'shrimp'], ['herb & pepper', 'chocolate', 'ground beef'], ['milk', 'chocolate', 'soup'], ['spaghetti', 'ground beef', 'cooking oil'], ['herb & pepper', 'eggs', 'ground beef'], ['eggs', 'spaghetti', 'red wine'], ['mushroom cream sauce', 'nan', 'escalope'], ['pasta', 'nan', 'escalope'], ['herb & pepper', 'french fries', 'ground beef'], ['honey', 'nan', 'fromage blanc'], ['frozen vegetables', 'green tea', 'tomatoes'], ['frozen vegetables', 'spaghetti', 'ground beef'], ['olive oil', 'milk', 'frozen vegetables'], ['milk', 'frozen vegetables', 'soup'], ['milk', 'frozen vegetables', 'tomatoes'], ['frozen vegetables', 'mineral water', 'shrimp'], ['olive oil', 'frozen vegetables', 'spaghetti'], ['frozen vegetables', 'spaghetti', 'shrimp'], ['frozen vegetables', 'shrimp', 'tomatoes'], ['frozen vegetables', 'spaghetti', 'tomatoes'], ['spaghetti', 'ground beef', 'grated cheese'], ['green tea', 'tomatoes', 'ground beef'], ['herb & pepper', 'milk', 'ground beef'], ['herb & pepper', 'mineral water', 'ground beef'], ['herb & pepper', 'nan', 'ground beef'], ['herb & pepper', 'spaghetti', 'ground beef'], ['olive oil', 'milk', 'ground beef'], ['milk', 'soup', 'ground beef'], ['tomato sauce', 'nan', 'ground beef'], ['pepper', 'spaghetti', 'ground beef'], ['spaghetti', 'shrimp', 'ground beef'], ['tomato sauce', 'spaghetti', 'ground beef'], ['spaghetti', 'mineral water', 'light cream'], ['olive oil', 'nan', 'light cream'], ['olive oil', 'milk', 'shrimp'], ['olive oil', 'milk', 'soup'], ['olive oil', 'milk', 'spaghetti'], ['milk', 'tomatoes', 'soup'], ['milk', 'whole wheat pasta', 'spaghetti'], ['olive oil', 'mineral water', 'soup'], ['olive oil', 'whole wheat pasta', 'mineral water'], ['olive oil', 'whole wheat pasta', 'nan'], ['pasta', 'shrimp', 'nan'], ['olive oil', 'spaghetti', 'pancakes'], ['olive oil', 'spaghetti', 'tomatoes'], ['whole wheat rice', 'spaghetti', 'tomatoes'], ['milk', 'spaghetti', 'avocado', 'nan'], ['cake', 'milk', 'burgers', 'nan'], ['turkey', 'chocolate', 'burgers', 'nan'], ['turkey', 'milk', 'burgers', 'nan'], ['cake', 'frozen vegetables', 'nan', 'tomatoes'], ['cereals', 'spaghetti', 'nan', 'ground beef'], ['milk', 'chicken', 'nan', 'ground beef'], ['olive oil', 'milk', 'chicken', 'nan'], ['olive oil', 'chicken', 'nan', 'spaghetti'], ['mineral water', 'eggs', 'chocolate', 'ground beef'], ['mineral water', 'frozen vegetables', 'chocolate', 'ground beef'], ['spaghetti', 'frozen vegetables', 'chocolate', 'ground beef'], ['milk', 'frozen vegetables', 'chocolate', 'mineral water'], ['milk', 'frozen vegetables', 'chocolate', 'spaghetti'], ['frozen vegetables', 'chocolate', 'shrimp', 'mineral water'], ['shrimp', 'frozen vegetables', 'chocolate', 'nan'], ['herb & pepper', 'chocolate', 'nan', 'ground beef'], ['milk', 'chocolate', 'nan', 'soup'], ['spaghetti', 'olive oil', 'chocolate', 'mineral water'], ['spaghetti', 'chocolate', 'shrimp', 'mineral water'], ['spaghetti', 'ground beef', 'nan', 'cooking oil'], ['milk', 'eggs', 'frozen vegetables', 'mineral water'], ['herb & pepper', 'eggs', 'nan', 'ground beef'], ['eggs', 'spaghetti', 'nan', 'red wine'], ['herb & pepper', 'french fries', 'nan', 'ground beef'], ['frozen smoothie', 'milk', 'mineral water', 'spaghetti'], ['frozen vegetables', 'green tea', 'nan', 'tomatoes'], ['milk', 'frozen vegetables', 'mineral water', 'ground beef'], ['milk', 'frozen vegetables', 'spaghetti', 'ground beef'], ['spaghetti', 'frozen vegetables', 'mineral water', 'ground beef'], ['frozen vegetables', 'spaghetti', 'nan', 'ground beef'], ['olive oil', 'milk', 'frozen vegetables', 'mineral water'], ['milk', 'frozen vegetables', 'mineral water', 'soup'], ['milk', 'frozen vegetables', 'mineral water', 'spaghetti'], ['olive oil', 'milk', 'frozen vegetables', 'nan'], ['milk', 'frozen vegetables', 'nan', 'soup'], ['milk', 'frozen vegetables', 'nan', 'tomatoes'], ['shrimp', 'frozen vegetables', 'mineral water', 'nan'], ['frozen vegetables', 'mineral water', 'shrimp', 'spaghetti'], ['frozen vegetables', 'mineral water', 'tomatoes', 'spaghetti'], ['olive oil', 'frozen vegetables', 'spaghetti', 'nan'], ['frozen vegetables', 'shrimp', 'nan', 'spaghetti'], ['frozen vegetables', 'shrimp', 'nan', 'tomatoes'], ['frozen vegetables', 'spaghetti', 'nan', 'tomatoes'], ['spaghetti', 'ground beef', 'nan', 'grated cheese'], ['green tea', 'tomatoes', 'nan', 'ground beef'], ['herb & pepper', 'milk', 'nan', 'ground beef'], ['herb & pepper', 'mineral water', 'nan', 'ground beef'], ['herb & pepper', 'spaghetti', 'nan', 'ground beef'], ['spaghetti', 'milk', 'mineral water', 'ground beef'], ['olive oil', 'milk', 'nan', 'ground beef'], ['milk', 'soup', 'nan', 'ground beef'], ['spaghetti', 'olive oil', 'mineral water', 'ground beef'], ['spaghetti', 'mineral water', 'pancakes', 'ground beef'], ['spaghetti', 'mineral water', 'tomatoes', 'ground beef'], ['pepper', 'spaghetti', 'nan', 'ground beef'], ['spaghetti', 'shrimp', 'nan', 'ground beef'], ['tomato sauce', 'spaghetti', 'nan', 'ground beef'], ['spaghetti', 'mineral water', 'nan', 'light cream'], ['olive oil', 'milk', 'mineral water', 'spaghetti'], ['milk', 'mineral water', 'tomatoes', 'spaghetti'], ['olive oil', 'milk', 'shrimp', 'nan'], ['olive oil', 'milk', 'nan', 'soup'], ['olive oil', 'milk', 'spaghetti', 'nan'], ['milk', 'tomatoes', 'nan', 'soup'], ['milk', 'whole wheat pasta', 'spaghetti', 'nan'], ['olive oil', 'mineral water', 'nan', 'soup'], ['olive oil', 'whole wheat pasta', 'mineral water', 'nan'], ['olive oil', 'spaghetti', 'pancakes', 'nan'], ['olive oil', 'spaghetti', 'nan', 'tomatoes'], ['whole wheat rice', 'spaghetti', 'nan', 'tomatoes'], ['eggs', 'mineral water', 'chocolate', 'nan', 'ground beef'], ['frozen vegetables', 'mineral water', 'chocolate', 'nan', 'ground beef'], ['frozen vegetables', 'chocolate', 'nan', 'spaghetti', 'ground beef'], ['frozen vegetables', 'milk', 'chocolate', 'mineral water', 'nan'], ['frozen vegetables', 'milk', 'chocolate', 'nan', 'spaghetti'], ['frozen vegetables', 'shrimp', 'chocolate', 'mineral water', 'nan'], ['olive oil', 'chocolate', 'mineral water', 'nan', 'spaghetti'], ['shrimp', 'chocolate', 'mineral water', 'nan', 'spaghetti'], ['frozen vegetables', 'milk', 'eggs', 'mineral water', 'nan'], ['frozen smoothie', 'milk', 'mineral water', 'nan', 'spaghetti'], ['frozen vegetables', 'milk', 'mineral water', 'nan', 'ground beef'], ['frozen vegetables', 'milk', 'nan', 'spaghetti', 'ground beef'], ['frozen vegetables', 'mineral water', 'nan', 'spaghetti', 'ground beef'], ['olive oil', 'frozen vegetables', 'milk', 'mineral water', 'nan'], ['frozen vegetables', 'milk', 'mineral water', 'nan', 'soup'], ['frozen vegetables', 'milk', 'mineral water', 'nan', 'spaghetti'], ['frozen vegetables', 'shrimp', 'mineral water', 'nan', 'spaghetti'], ['frozen vegetables', 'tomatoes', 'mineral water', 'nan', 'spaghetti'], ['milk', 'mineral water', 'nan', 'spaghetti', 'ground beef'], ['olive oil', 'mineral water', 'nan', 'spaghetti', 'ground beef'], ['mineral water', 'nan', 'spaghetti', 'pancakes', 'ground beef'], ['tomatoes', 'mineral water', 'nan', 'spaghetti', 'ground beef'], ['olive oil', 'milk', 'mineral water', 'nan', 'spaghetti'], ['tomatoes', 'milk', 'mineral water', 'nan', 'spaghetti']]\n"
     ]
    }
   ],
   "source": [
    "transactions = []\n",
    "for i in range(0, 7501):\n",
    "    transactions.append([str(dataset.values[i,j]) for j in range(0, 20)])\n",
    "\n",
    "# Training Apriori on the dataset\n",
    "from apyori import apriori\n",
    "rules = apriori(transactions, min_support = 0.003, min_confidence = 0.2, min_lift = 3, min_length = 2)\n",
    "\n",
    "# Visualising the results\n",
    "MB = list(rules)\n",
    "Result = [list(MB[i][0]) for i in range(0,len(MB))]\n",
    "print(Result)"
   ]
  },
  {
   "cell_type": "markdown",
   "metadata": {},
   "source": [
    "# Using Eclat Algorithm"
   ]
  },
  {
   "cell_type": "code",
   "execution_count": 25,
   "metadata": {},
   "outputs": [],
   "source": [
    "transactions = []\n",
    "for sublist in dataset.values.tolist():\n",
    "    clean_sublist = [item for item in sublist if item is not np.nan]\n",
    "    transactions.append(clean_sublist)"
   ]
  },
  {
   "cell_type": "code",
   "execution_count": 26,
   "metadata": {},
   "outputs": [],
   "source": [
    "from mlxtend.preprocessing import TransactionEncoder\n",
    "\n",
    "te = TransactionEncoder()\n",
    "te_ary = te.fit(transactions).transform(transactions)\n",
    "df_x = pd.DataFrame(te_ary, columns=te.columns_) # encode to onehot"
   ]
  },
  {
   "cell_type": "code",
   "execution_count": 27,
   "metadata": {},
   "outputs": [],
   "source": [
    "# Train model using Apiori algorithm \n",
    "# ref = https://rasbt.github.io/mlxtend/api_subpackages/mlxtend.frequent_patterns/\n",
    "from mlxtend.frequent_patterns import apriori\n",
    "from mlxtend.frequent_patterns import association_rules\n",
    "df_sets = apriori(df_x, min_support=0.005, use_colnames=True)\n",
    "df_rules = association_rules(df_sets,metric='support',min_threshold= 0.005,support_only=True) \n",
    "# if you use only \"support\", it called \"ECLAT\""
   ]
  },
  {
   "cell_type": "code",
   "execution_count": 28,
   "metadata": {},
   "outputs": [
    {
     "name": "stdout",
     "output_type": "stream",
     "text": [
      "       asparagus  almonds  antioxydant juice  asparagus  avocado  babies food  \\\n",
      "0          False     True               True      False     True        False   \n",
      "1          False    False              False      False    False        False   \n",
      "2          False    False              False      False    False        False   \n",
      "3          False    False              False      False     True        False   \n",
      "4          False    False              False      False    False        False   \n",
      "...          ...      ...                ...        ...      ...          ...   \n",
      "7496       False    False              False      False    False        False   \n",
      "7497       False    False              False      False    False        False   \n",
      "7498       False    False              False      False    False        False   \n",
      "7499       False    False              False      False    False        False   \n",
      "7500       False    False              False      False    False        False   \n",
      "\n",
      "      bacon  barbecue sauce  black tea  blueberries  ...  turkey  \\\n",
      "0     False           False      False        False  ...   False   \n",
      "1     False           False      False        False  ...   False   \n",
      "2     False           False      False        False  ...   False   \n",
      "3     False           False      False        False  ...    True   \n",
      "4     False           False      False        False  ...   False   \n",
      "...     ...             ...        ...          ...  ...     ...   \n",
      "7496  False           False      False        False  ...   False   \n",
      "7497  False           False      False        False  ...   False   \n",
      "7498  False           False      False        False  ...   False   \n",
      "7499  False           False      False        False  ...   False   \n",
      "7500  False           False      False        False  ...   False   \n",
      "\n",
      "      vegetables mix  water spray  white wine  whole weat flour  \\\n",
      "0               True        False       False              True   \n",
      "1              False        False       False             False   \n",
      "2              False        False       False             False   \n",
      "3              False        False       False             False   \n",
      "4              False        False       False             False   \n",
      "...              ...          ...         ...               ...   \n",
      "7496           False        False       False             False   \n",
      "7497           False        False       False             False   \n",
      "7498           False        False       False             False   \n",
      "7499           False        False       False             False   \n",
      "7500           False        False       False             False   \n",
      "\n",
      "      whole wheat pasta  whole wheat rice   yams  yogurt cake  zucchini  \n",
      "0                 False             False   True        False     False  \n",
      "1                 False             False  False        False     False  \n",
      "2                 False             False  False        False     False  \n",
      "3                 False             False  False        False     False  \n",
      "4                 False              True  False        False     False  \n",
      "...                 ...               ...    ...          ...       ...  \n",
      "7496              False             False  False        False     False  \n",
      "7497              False             False  False        False     False  \n",
      "7498              False             False  False        False     False  \n",
      "7499              False             False  False        False     False  \n",
      "7500              False             False  False         True     False  \n",
      "\n",
      "[7501 rows x 120 columns]\n"
     ]
    }
   ],
   "source": [
    "print(df_x)"
   ]
  },
  {
   "cell_type": "code",
   "execution_count": 29,
   "metadata": {},
   "outputs": [
    {
     "name": "stdout",
     "output_type": "stream",
     "text": [
      "      support                                      itemsets\n",
      "0    0.020397                                     (almonds)\n",
      "1    0.008932                           (antioxydant juice)\n",
      "2    0.033329                                     (avocado)\n",
      "3    0.008666                                       (bacon)\n",
      "4    0.010799                              (barbecue sauce)\n",
      "..        ...                                           ...\n",
      "720  0.007466              (spaghetti, mineral water, soup)\n",
      "721  0.009332          (spaghetti, mineral water, tomatoes)\n",
      "722  0.006399            (turkey, mineral water, spaghetti)\n",
      "723  0.006266  (whole wheat rice, mineral water, spaghetti)\n",
      "724  0.005066              (olive oil, spaghetti, pancakes)\n",
      "\n",
      "[725 rows x 2 columns]\n"
     ]
    }
   ],
   "source": [
    "print(df_sets)"
   ]
  },
  {
   "cell_type": "code",
   "execution_count": 30,
   "metadata": {},
   "outputs": [
    {
     "name": "stdout",
     "output_type": "stream",
     "text": [
      "                antecedents             consequents  antecedent support  \\\n",
      "0                 (burgers)               (almonds)                 NaN   \n",
      "1                 (almonds)               (burgers)                 NaN   \n",
      "2               (chocolate)               (almonds)                 NaN   \n",
      "3                 (almonds)             (chocolate)                 NaN   \n",
      "4                    (eggs)               (almonds)                 NaN   \n",
      "...                     ...                     ...                 ...   \n",
      "1935  (olive oil, pancakes)             (spaghetti)                 NaN   \n",
      "1936  (spaghetti, pancakes)             (olive oil)                 NaN   \n",
      "1937            (olive oil)   (spaghetti, pancakes)                 NaN   \n",
      "1938            (spaghetti)   (olive oil, pancakes)                 NaN   \n",
      "1939             (pancakes)  (olive oil, spaghetti)                 NaN   \n",
      "\n",
      "      consequent support   support  confidence  lift  leverage  conviction  \n",
      "0                    NaN  0.005199         NaN   NaN       NaN         NaN  \n",
      "1                    NaN  0.005199         NaN   NaN       NaN         NaN  \n",
      "2                    NaN  0.005999         NaN   NaN       NaN         NaN  \n",
      "3                    NaN  0.005999         NaN   NaN       NaN         NaN  \n",
      "4                    NaN  0.006532         NaN   NaN       NaN         NaN  \n",
      "...                  ...       ...         ...   ...       ...         ...  \n",
      "1935                 NaN  0.005066         NaN   NaN       NaN         NaN  \n",
      "1936                 NaN  0.005066         NaN   NaN       NaN         NaN  \n",
      "1937                 NaN  0.005066         NaN   NaN       NaN         NaN  \n",
      "1938                 NaN  0.005066         NaN   NaN       NaN         NaN  \n",
      "1939                 NaN  0.005066         NaN   NaN       NaN         NaN  \n",
      "\n",
      "[1940 rows x 9 columns]\n"
     ]
    }
   ],
   "source": [
    "print(df_rules)"
   ]
  },
  {
   "cell_type": "markdown",
   "metadata": {},
   "source": [
    "# By FP-Growth Algorithm"
   ]
  },
  {
   "cell_type": "code",
   "execution_count": null,
   "metadata": {},
   "outputs": [],
   "source": [
    "import pyfpgrowth\n",
    "\n",
    "transactions = []\n",
    "for sublist in dataset.values.tolist():\n",
    "    clean_sublist = [item for item in sublist if item is not np.nan]\n",
    "    transactions.append(clean_sublist) \n",
    "\n",
    "patterns = pyfpgrowth.find_frequent_patterns(transactions, 2)\n",
    "\n",
    "rules = pyfpgrowth.generate_association_rules(patterns, 0.7)"
   ]
  },
  {
   "cell_type": "code",
   "execution_count": 14,
   "metadata": {},
   "outputs": [
    {
     "name": "stderr",
     "output_type": "stream",
     "text": [
      "IOPub data rate exceeded.\n",
      "The notebook server will temporarily stop sending output\n",
      "to the client in order to avoid crashing it.\n",
      "To change this limit, set the config variable\n",
      "`--NotebookApp.iopub_data_rate_limit`.\n",
      "\n",
      "Current values:\n",
      "NotebookApp.iopub_data_rate_limit=1000000.0 (bytes/sec)\n",
      "NotebookApp.rate_limit_window=3.0 (secs)\n",
      "\n"
     ]
    }
   ],
   "source": [
    "print(patterns)"
   ]
  },
  {
   "cell_type": "code",
   "execution_count": 15,
   "metadata": {},
   "outputs": [
    {
     "name": "stderr",
     "output_type": "stream",
     "text": [
      "IOPub data rate exceeded.\n",
      "The notebook server will temporarily stop sending output\n",
      "to the client in order to avoid crashing it.\n",
      "To change this limit, set the config variable\n",
      "`--NotebookApp.iopub_data_rate_limit`.\n",
      "\n",
      "Current values:\n",
      "NotebookApp.iopub_data_rate_limit=1000000.0 (bytes/sec)\n",
      "NotebookApp.rate_limit_window=3.0 (secs)\n",
      "\n"
     ]
    },
    {
     "name": "stdout",
     "output_type": "stream",
     "text": [
      "\n"
     ]
    }
   ],
   "source": [
    "print(rules)"
   ]
  },
  {
   "cell_type": "code",
   "execution_count": null,
   "metadata": {},
   "outputs": [],
   "source": []
  }
 ],
 "metadata": {
  "kernelspec": {
   "display_name": "Python 3",
   "language": "python",
   "name": "python3"
  },
  "language_info": {
   "codemirror_mode": {
    "name": "ipython",
    "version": 3
   },
   "file_extension": ".py",
   "mimetype": "text/x-python",
   "name": "python",
   "nbconvert_exporter": "python",
   "pygments_lexer": "ipython3",
   "version": "3.8.5"
  }
 },
 "nbformat": 4,
 "nbformat_minor": 4
}
